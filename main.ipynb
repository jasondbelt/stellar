{
 "cells": [
  {
   "cell_type": "code",
   "execution_count": 39,
   "metadata": {},
   "outputs": [
    {
     "name": "stdout",
     "output_type": "stream",
     "text": [
      "2.2.2\n"
     ]
    }
   ],
   "source": [
    "import torch\n",
    "# ! pip install numpy==2.0\n",
    "print(torch.__version__)"
   ]
  },
  {
   "cell_type": "code",
   "execution_count": 40,
   "metadata": {},
   "outputs": [],
   "source": [
    "from torch import nn\n",
    "import torch.nn.functional as F\n",
    "# multi classification [0.3, 0.2, 0.1, 0.4]\n",
    "\n",
    "class MultiClassificationModel(nn.Module):\n",
    "  def __init__(self):\n",
    "    super(MultiClassificationModel, self).__init__()\n",
    "    # 13 because we dropped Student ID as a feature\n",
    "    self.ly1 = nn.Linear(8, 30)\n",
    "    self.dp1 = nn.Dropout(p=0.5)\n",
    "    self.ly2 = nn.Linear(30, 20)\n",
    "    self.dp2 = nn.Dropout(p=0.5)\n",
    "    self.ly3 = nn.Linear(20,15)\n",
    "    self.dp3 = nn.Dropout(p=0.5)\n",
    "    self.ly4 = nn.Linear(15, 10)\n",
    "    self.dp4 = nn.Dropout(p=0.5)\n",
    "    self.ly5 = nn.Linear(10, 5)\n",
    "    self.act = nn.Softmax(dim=1)\n",
    "\n",
    "  def forward(self, x):\n",
    "    x = self.dp1(F.relu(self.ly1(x)))\n",
    "    x = self.dp2(F.relu(self.ly2(x)))\n",
    "    x = self.dp3(F.relu(self.ly3(x)))\n",
    "    x = self.dp4(F.relu(self.ly4(x)))\n",
    "    x = self.act(self.ly5(x))\n",
    "    return x\n",
    "  \n",
    "model = MultiClassificationModel()"
   ]
  },
  {
   "cell_type": "code",
   "execution_count": 41,
   "metadata": {},
   "outputs": [],
   "source": [
    "import torch\n",
    "from sklearn.preprocessing import StandardScaler, LabelEncoder\n",
    "from sklearn.model_selection import train_test_split\n",
    "import pandas as pd\n",
    "from torch.utils.data import DataLoader, TensorDataset\n",
    "\n",
    "df = pd.read_csv('star_classification.csv')\n",
    "\n",
    "# check for nulls\n",
    "# print(df.isnull().sum())\n",
    "\n",
    "# get labels\n",
    "labels = LabelEncoder().fit_transform(df['class'])\n",
    "# drop label and drop irrelevant data so it doesn't pollute the feature data\n",
    "features = df.drop(columns=['obj_ID', 'run_ID', 'rerun_ID', 'cam_col', 'field_ID', 'spec_obj_ID', 'class', 'plate', 'MJD', 'fiber_ID'])\n",
    "# print(features)\n",
    "# Normalize data\n",
    "scaler = StandardScaler()\n",
    "scaled_features = scaler.fit_transform(features)\n",
    "# print(features)\n",
    "\n",
    "# Create training, evaluation data groups\n",
    "training_f, testing_f, training_l, testing_l = train_test_split(scaled_features, labels, test_size=0.2, random_state=42)\n",
    "\n",
    "# Turn it all into tensors & make ready to load into Pytorch\n",
    "training_f = torch.tensor(training_f, dtype=torch.float32)\n",
    "testing_f = torch.tensor(testing_f, dtype=torch.float32)\n",
    "# For multi classification our label data needs to be long (int) not float\n",
    "training_l = torch.tensor(training_l, dtype=torch.long)\n",
    "testing_l = torch.tensor(testing_l, dtype=torch.long)\n",
    "# print(testing_l)\n",
    "\n",
    "# print(training_f)\n",
    "# print(testing_f)\n",
    "# print(training_l)\n",
    "# print(testing_l)\n",
    "\n",
    "training_dataset = TensorDataset(training_f, training_l)\n",
    "testing_dataset = TensorDataset(testing_f, testing_l)\n",
    "training_loader = DataLoader(training_dataset, batch_size=32, shuffle=True)\n",
    "testing_loader = DataLoader(testing_dataset, batch_size=32, shuffle=True)\n"
   ]
  },
  {
   "cell_type": "code",
   "execution_count": 42,
   "metadata": {},
   "outputs": [
    {
     "name": "stdout",
     "output_type": "stream",
     "text": [
      "Average Loss 1.1661778667449951, Epoch: 2\n",
      "Average Loss 1.1592050133705138, Epoch: 4\n",
      "Average Loss 1.158071209859848, Epoch: 6\n",
      "Average Loss 1.156832037472725, Epoch: 8\n",
      "Average Loss 1.1550382762432099, Epoch: 10\n"
     ]
    }
   ],
   "source": [
    "from torch import optim\n",
    "\n",
    "# Make loss function and optimizer\n",
    "criterion = nn.CrossEntropyLoss() # Using different loss function for Multi Classification\n",
    "optimizer = optim.Adam(model.parameters(), lr=0.001)\n",
    "\n",
    "num_epochs = 10\n",
    "for epoch in range(num_epochs):\n",
    "    running_loss = 0\n",
    "    model.train()\n",
    "    for features, labels in training_loader:\n",
    "        optimizer.zero_grad()\n",
    "        output = model(features) # model.forward()\n",
    "        loss = criterion(output, labels)\n",
    "        loss.backward()\n",
    "        optimizer.step()\n",
    "        running_loss += loss.item() # keep track of overall loss rate\n",
    "    avg_loss = running_loss/len(training_loader)\n",
    "    if not(epoch+1) % 2:\n",
    "        print(f\"Average Loss {avg_loss}, Epoch: {epoch+1}\")"
   ]
  },
  {
   "cell_type": "code",
   "execution_count": 43,
   "metadata": {},
   "outputs": [
    {
     "name": "stdout",
     "output_type": "stream",
     "text": [
      "Accuracy: 0.7549499869346619\n"
     ]
    }
   ],
   "source": [
    "# Evaluation\n",
    "from torchmetrics import Accuracy\n",
    "\n",
    "acc = Accuracy(task='multiclass', num_classes=5) # [A,B,C,D,F] -> [0,1,2,3,4]\n",
    "model.eval()\n",
    "\n",
    "with torch.no_grad():\n",
    "    for features, labels in testing_loader:\n",
    "        output = model(features)\n",
    "        # multi: We need to get the highest probability from all [0.2,0.3,0.5,0.1] the probabilities for EACH possible class/label\n",
    "        _, predicted = torch.max(output.data, 1) \n",
    "        acc.update(predicted, labels)\n",
    "\n",
    "print(f\"Accuracy: {acc.compute().item()}\") # higher is better, 0.87 represents 87% accuracy"
   ]
  }
 ],
 "metadata": {
  "kernelspec": {
   "display_name": ".venv",
   "language": "python",
   "name": "python3"
  },
  "language_info": {
   "codemirror_mode": {
    "name": "ipython",
    "version": 3
   },
   "file_extension": ".py",
   "mimetype": "text/x-python",
   "name": "python",
   "nbconvert_exporter": "python",
   "pygments_lexer": "ipython3",
   "version": "3.12.1"
  }
 },
 "nbformat": 4,
 "nbformat_minor": 2
}
